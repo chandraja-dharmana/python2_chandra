{
 "cells": [
  {
   "cell_type": "code",
   "execution_count": null,
   "id": "1f40779e",
   "metadata": {},
   "outputs": [],
   "source": [
    "import random"
   ]
  },
  {
   "cell_type": "markdown",
   "id": "6573f070",
   "metadata": {},
   "source": [
    "**problem 1**  "
   ]
  },
  {
   "cell_type": "code",
   "execution_count": 68,
   "id": "5458d938",
   "metadata": {},
   "outputs": [
    {
     "name": "stdout",
     "output_type": "stream",
     "text": [
      "enter a number: 84\n",
      "84 is an even number\n"
     ]
    }
   ],
   "source": [
    "# wap ask the user, enter a number - find whether it is an even or odd number\n",
    "# any number divided by 2, remainder=0\n",
    "\n",
    "# a) input1 - keyboard input\n",
    "num = eval(input(\"enter a number: \"))\n",
    "\n",
    "if (num%2)==0:\n",
    "    print(f\"{num} is an even number\")\n",
    "else:\n",
    "    print(f\"{num} is an odd number\")"
   ]
  },
  {
   "cell_type": "markdown",
   "id": "3e460652",
   "metadata": {},
   "source": [
    "**problem 2** "
   ]
  },
  {
   "cell_type": "code",
   "execution_count": 69,
   "id": "0ffdb2cb",
   "metadata": {},
   "outputs": [
    {
     "name": "stdout",
     "output_type": "stream",
     "text": [
      "19 is an odd number\n"
     ]
    }
   ],
   "source": [
    "# b) input2 - random number picked\n",
    "num = random.randint(1,100)  # (1,100) range limits are hard-coded\n",
    "\n",
    "if (num%2)==0:\n",
    "    print(f\"{num} is an even number\")\n",
    "else:\n",
    "    print(f\"{num} is an odd number\")\n"
   ]
  },
  {
   "cell_type": "markdown",
   "id": "41d875fb",
   "metadata": {},
   "source": [
    "**problem 3** "
   ]
  },
  {
   "cell_type": "code",
   "execution_count": 12,
   "id": "528c8273",
   "metadata": {},
   "outputs": [
    {
     "name": "stdout",
     "output_type": "stream",
     "text": [
      " enter the start value: 43\n",
      " enter the end value: 544\n",
      "the random number is: 291\n",
      "291 is an odd number\n"
     ]
    }
   ],
   "source": [
    "# c) input3 - random number picked, user also gives the range\n",
    "start_num = eval(input(\" enter the start value: \"))\n",
    "start_end = eval(input(\" enter the end value: \"))\n",
    "num = random.randint(start_num,start_end)\n",
    "print(f\"the random number is: {num}\")\n",
    "\n",
    "if (num%2)==0:\n",
    "    print(f\"{num} is an even number\")\n",
    "else:\n",
    "    print(f\"{num} is an odd number\")\n"
   ]
  },
  {
   "cell_type": "markdown",
   "id": "f8181816",
   "metadata": {},
   "source": [
    "**problem 4**"
   ]
  },
  {
   "cell_type": "code",
   "execution_count": 13,
   "id": "67d3589e",
   "metadata": {},
   "outputs": [],
   "source": [
    "# wap ask the user to enter the distance\n",
    "# if distance greater than 25 km\n",
    "# the enter the charge, print the total cost\n",
    "# otherwise\n",
    "# print free ride"
   ]
  },
  {
   "cell_type": "code",
   "execution_count": 14,
   "id": "c0f78d8e",
   "metadata": {},
   "outputs": [
    {
     "name": "stdout",
     "output_type": "stream",
     "text": [
      "enter the distance in km: 93\n",
      "margin distance, cutoff is 25 km\n",
      "price per km, enter the charge: 4\n",
      "ride cost is 372\n"
     ]
    }
   ],
   "source": [
    "dist=eval(input(\"enter the distance in km: \"))\n",
    "print(\"margin distance, cutoff is 25 km\") # 25 km is hard-coded\n",
    "if dist>25:\n",
    "    price_per_km = eval(input(\"price per km, enter the charge: \"))\n",
    "    cost = dist*price_per_km\n",
    "    print(f\"ride's total cost is {cost}\")\n",
    "else:\n",
    "    print(\"distance < 25 km, so free ride\")"
   ]
  },
  {
   "cell_type": "markdown",
   "id": "8a95e1f1",
   "metadata": {},
   "source": [
    "**problem 5**"
   ]
  },
  {
   "cell_type": "code",
   "execution_count": 15,
   "id": "9fd6ab1c",
   "metadata": {},
   "outputs": [],
   "source": [
    "# wap ask the user to enter the distance\n",
    "# if distance greater than 25 km\n",
    "# print \" good news charge is applicable for only remaining of 25 km\"\n",
    "# the enter the charge, print the total cost\n",
    "# chargeable dist = dist - cutoff\n",
    "# otherwise\n",
    "# print free ride"
   ]
  },
  {
   "cell_type": "code",
   "execution_count": 52,
   "id": "6bdfb803",
   "metadata": {},
   "outputs": [
    {
     "name": "stdout",
     "output_type": "stream",
     "text": [
      "enter the distance in km: 83\n",
      "enter the margin distance ( in km )25\n",
      " good news charge is applicable for only remaining of 25 km\n",
      "price per km, enter the charge: 6\n",
      "ride cost is 348\n"
     ]
    }
   ],
   "source": [
    "dist=eval(input(\"enter the distance in km: \"))\n",
    "cutoff = eval(input(\"enter the margin distance ( in km )\"))\n",
    "if dist>cutoff:\n",
    "    print(\"good news charge is applicable for only remaining of 25 km\" )\n",
    "    price_per_km = eval(input(\"price per km, enter the charge: \"))\n",
    "    dist_rem = dist - cutoff\n",
    "    cost = dist_rem*price_per_km\n",
    "    print(f\"ride cost is {cost}\")\n",
    "else:\n",
    "    print(\"distance < 25 km, so free ride\")"
   ]
  },
  {
   "cell_type": "markdown",
   "id": "f24b900e",
   "metadata": {},
   "source": [
    "**problem 6**"
   ]
  },
  {
   "cell_type": "code",
   "execution_count": null,
   "id": "924d8af0",
   "metadata": {},
   "outputs": [],
   "source": [
    "# enter the course, ask the user enter the institute\n",
    "# if the course = data science and institute = naresh IT\n",
    "# then you are good\n",
    "# otherwise you are bad"
   ]
  },
  {
   "cell_type": "code",
   "execution_count": 7,
   "id": "f1d49df8",
   "metadata": {},
   "outputs": [
    {
     "name": "stdout",
     "output_type": "stream",
     "text": [
      "enter the course: data science\n",
      "enter the institute: Naresh IT\n",
      "you are good\n"
     ]
    }
   ],
   "source": [
    "course = input(\"enter the course: \")\n",
    "ins = input(\"enter the institute: \")\n",
    "if course=='data science' and ins=='Naresh IT':\n",
    "    print(\"you are good\")\n",
    "else:\n",
    "    print(\"you are bad\")"
   ]
  },
  {
   "cell_type": "markdown",
   "id": "d6e0f351",
   "metadata": {},
   "source": [
    "**problem 7**"
   ]
  },
  {
   "cell_type": "code",
   "execution_count": null,
   "id": "a8c3f295",
   "metadata": {},
   "outputs": [],
   "source": [
    "#ask the user, enter a random number between 1 and  10. Treat this as number 1\n",
    "#ask the user enter number from keyboard\n",
    "#if number1 == number 2 you won\n",
    "#otherwise print you lost"
   ]
  },
  {
   "cell_type": "code",
   "execution_count": 70,
   "id": "fde5f000",
   "metadata": {},
   "outputs": [
    {
     "name": "stdout",
     "output_type": "stream",
     "text": [
      "enter a number, number2: 8\n",
      "random number1 : 4\n",
      "you lost\n"
     ]
    }
   ],
   "source": [
    "import random\n",
    "number1 = random.randint(1,10)\n",
    "number2 = eval(input(\"enter a number, number2: \"))\n",
    "print(f\"random number1 : {number1}\")\n",
    "if number1==number2:\n",
    "    print(\"you have won\")\n",
    "else:\n",
    "    print(\"you lost\")"
   ]
  },
  {
   "cell_type": "markdown",
   "id": "84047933",
   "metadata": {},
   "source": [
    "**problem 8**"
   ]
  },
  {
   "cell_type": "code",
   "execution_count": 21,
   "id": "986d241c",
   "metadata": {},
   "outputs": [],
   "source": [
    "# wap ask the user, enter number\n",
    "# if number equal to one, then print one\n",
    "# if number equal to 2, then print two\n",
    "# if number equal to 3, then print three\n",
    "# otherwise print enter a valid number"
   ]
  },
  {
   "cell_type": "code",
   "execution_count": 54,
   "id": "a6f88f84",
   "metadata": {},
   "outputs": [
    {
     "name": "stdout",
     "output_type": "stream",
     "text": [
      "enter a number: 2\n",
      "two\n"
     ]
    }
   ],
   "source": [
    "num = eval(input(\"enter a number: \"))\n",
    "if num==1:\n",
    "    print(\"one\")\n",
    "elif num==2:\n",
    "    print(\"two\")\n",
    "elif num==3:\n",
    "    print(\"three\")\n",
    "else:\n",
    "    print(\"enter a valid number\")\n"
   ]
  },
  {
   "cell_type": "markdown",
   "id": "4056b47b",
   "metadata": {},
   "source": [
    "**problem 9**"
   ]
  },
  {
   "cell_type": "code",
   "execution_count": 24,
   "id": "b701dc2f",
   "metadata": {},
   "outputs": [],
   "source": [
    "#wap ask the user enter a number \n",
    "#if that number > 0, print positive\n",
    "#if that number < 0, print negative\n",
    "# otherwise print zero"
   ]
  },
  {
   "cell_type": "code",
   "execution_count": 27,
   "id": "ed37cef9",
   "metadata": {},
   "outputs": [
    {
     "name": "stdout",
     "output_type": "stream",
     "text": [
      "enter a number: 0\n",
      "zero\n"
     ]
    }
   ],
   "source": [
    "num = eval(input(\"enter a number: \"))\n",
    "if num>0:\n",
    "    print(\"positive\")\n",
    "elif num<0:\n",
    "    print(\"negative\")\n",
    "else:\n",
    "    print(\"zero\")"
   ]
  },
  {
   "cell_type": "markdown",
   "id": "056cdd83",
   "metadata": {},
   "source": [
    "**problem 10**"
   ]
  },
  {
   "cell_type": "markdown",
   "id": "722d4449",
   "metadata": {},
   "source": [
    "- wap ask the user enter the percentage of marks \n",
    "- if percentage > 90, print A grade \n",
    "- if percentage between 75 to 90, print B grade \n",
    "- if percentage between 50 to 75, print C grade\n",
    "- if percentage between 35 to 50, print D grade \n",
    "- if percentage less than 35, print fail"
   ]
  },
  {
   "cell_type": "code",
   "execution_count": 50,
   "id": "d43b45bd",
   "metadata": {},
   "outputs": [
    {
     "name": "stdout",
     "output_type": "stream",
     "text": [
      "enter the percentage of marks: 42\n",
      "grade:D\n"
     ]
    }
   ],
   "source": [
    "percentage = eval(input(\"enter the percentage of marks: \"))  #assumed between 0 and 100\n",
    "\n",
    "if percentage >90: print(\"grade:A\")\n",
    "elif percentage>75 and percentage<90: print(\"grade:B\")\n",
    "elif percentage>50 and percentage<75: print(\"grade:C\")\n",
    "elif percentage>35 and percentage<50: print(\"grade:D\")\n",
    "else: print(\"Fail\")\n",
    "    \n",
    "# or\n",
    "#if percentage >90: print(\" grade:A\")\n",
    "#elif 75 < percentage < 90: print(\" grade:B\")\n",
    "#elif 50 < percentage < 75: print(\" grade:C\")\n",
    "#elif 35 < percentage < 50: print(\" grade:D\")\n",
    "#else: print(\" Fail\")\n"
   ]
  },
  {
   "cell_type": "markdown",
   "id": "c60106c2",
   "metadata": {},
   "source": [
    "**problem 11**"
   ]
  },
  {
   "cell_type": "code",
   "execution_count": 34,
   "id": "42c404cb",
   "metadata": {},
   "outputs": [
    {
     "name": "stdout",
     "output_type": "stream",
     "text": [
      "enter the percentage of marks between 0 and 100 : 59\n",
      " grade:C\n"
     ]
    }
   ],
   "source": [
    "#after removing redundancies in the above\n",
    "percentage = eval(input(\"enter the percentage of marks between 0 and 100 : \"))\n",
    "if percentage > 90: print(\" grade:A\")\n",
    "elif 75 < percentage: print(\" grade:B\")\n",
    "elif 50 < percentage: print(\" grade:C\")\n",
    "elif 35 < percentage: print(\" grade:D\")\n",
    "else: print(\" Fail\")"
   ]
  },
  {
   "cell_type": "markdown",
   "id": "14dfb362",
   "metadata": {},
   "source": [
    "**problem 12**"
   ]
  },
  {
   "cell_type": "code",
   "execution_count": null,
   "id": "4e01638d",
   "metadata": {},
   "outputs": [],
   "source": [
    "# wap ask the user enter the age\n",
    "# if the age greater than 100, print you are lucky\n",
    "# if the age greater than 75, print old age\n",
    "# if the age is between 50 to 75, print sc\n",
    "# if the age is between 30 to 50, print ma\n",
    "# if the age is between 15 to 30, print young age\n",
    "#if age less than 15, print kid"
   ]
  },
  {
   "cell_type": "code",
   "execution_count": 67,
   "id": "dfd421ca",
   "metadata": {},
   "outputs": [
    {
     "name": "stdout",
     "output_type": "stream",
     "text": [
      "enter the age: 8\n",
      "kid\n"
     ]
    }
   ],
   "source": [
    "age = eval(input(\"enter the age: \"))\n",
    "\n",
    "if age>100:print(\"you are lucky\")\n",
    "elif age>75 and age<100:print(\"old age\")\n",
    "elif age>50 and age<75:print(\"senior citizens\")\n",
    "elif age>30 and age<50:print(\"middle age\")\n",
    "elif age>15 and age<30:print(\"young age\")\n",
    "else:print(\"kid\")\n",
    "    "
   ]
  },
  {
   "cell_type": "code",
   "execution_count": null,
   "id": "c128db74",
   "metadata": {},
   "outputs": [],
   "source": [
    "#after removing redundancies in the above\n",
    "age = eval(input(\"enter the age : \"))\n",
    "if age > 100: print(\" you are lucky\")\n",
    "elif 75 < age: print(\" old age\")\n",
    "elif 50 < age: print(\" senior citizens\")\n",
    "elif 30 < age: print(\" middle age\")\n",
    "elif 15 < age: print(\" young age\")\n",
    "else: print(\"kid\")"
   ]
  }
 ],
 "metadata": {
  "kernelspec": {
   "display_name": "Python 3 (ipykernel)",
   "language": "python",
   "name": "python3"
  },
  "language_info": {
   "codemirror_mode": {
    "name": "ipython",
    "version": 3
   },
   "file_extension": ".py",
   "mimetype": "text/x-python",
   "name": "python",
   "nbconvert_exporter": "python",
   "pygments_lexer": "ipython3",
   "version": "3.11.7"
  }
 },
 "nbformat": 4,
 "nbformat_minor": 5
}
