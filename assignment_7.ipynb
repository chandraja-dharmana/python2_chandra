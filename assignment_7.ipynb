{
 "cells": [
  {
   "cell_type": "markdown",
   "id": "7c55a570",
   "metadata": {},
   "source": [
    "**Problem 1**`"
   ]
  },
  {
   "cell_type": "code",
   "execution_count": 9,
   "id": "9baebdea",
   "metadata": {},
   "outputs": [
    {
     "name": "stdout",
     "output_type": "stream",
     "text": [
      "67 is an odd number\n",
      "41 is an odd number\n",
      "72 is an even number\n"
     ]
    }
   ],
   "source": [
    "import random\n",
    "for i in range(3):\n",
    "    num = random.randint(1,100)\n",
    "    if num%2==0:\n",
    "        print(f\"{num} is an even number\")\n",
    "    else:\n",
    "        print(f\"{num} is an odd number\")\n"
   ]
  },
  {
   "cell_type": "markdown",
   "id": "230e919d",
   "metadata": {},
   "source": [
    "**Problem 2**"
   ]
  },
  {
   "cell_type": "code",
   "execution_count": 14,
   "id": "40348e42",
   "metadata": {},
   "outputs": [
    {
     "name": "stdout",
     "output_type": "stream",
     "text": [
      "enter a number between 10 and 20: 13\n",
      "13 is odd\n"
     ]
    }
   ],
   "source": [
    "num = int(input(\"enter a number between 10 and 20: \"))\n",
    "if 10<= num <=20:\n",
    "    if num%2==0:\n",
    "        print(f\"{num} is even\")\n",
    "    else:\n",
    "        print(f\"{num} is odd\")\n",
    "else:\n",
    "    print(\"enter a valid number\")"
   ]
  },
  {
   "cell_type": "markdown",
   "id": "2240b07a",
   "metadata": {},
   "source": [
    "**Problem 3**"
   ]
  },
  {
   "cell_type": "code",
   "execution_count": 15,
   "id": "f67dd120",
   "metadata": {
    "scrolled": true
   },
   "outputs": [
    {
     "name": "stdout",
     "output_type": "stream",
     "text": [
      "enter a number between 20 and 25: 23\n",
      "square of the number 23 is 529\n"
     ]
    }
   ],
   "source": [
    "num = int(input(\"enter a number between 20 and 25: \"))\n",
    "if 20<= num <=25:\n",
    "    num_sq = num*num\n",
    "    print(f\"square of the number {num} is {num_sq}\")\n",
    "else:\n",
    "    print(\"enter a valid number\")"
   ]
  },
  {
   "cell_type": "markdown",
   "id": "1243f748",
   "metadata": {},
   "source": [
    "**Problem 4**"
   ]
  },
  {
   "cell_type": "code",
   "execution_count": 16,
   "id": "570dd457",
   "metadata": {},
   "outputs": [
    {
     "name": "stdout",
     "output_type": "stream",
     "text": [
      "enter a number: 5\n",
      "square of the number 5 is 25\n",
      "enter a number: 8\n",
      "square of the number 8 is 64\n",
      "enter a number: 2\n",
      "square of the number 2 is 4\n"
     ]
    }
   ],
   "source": [
    "for i in range(3):\n",
    "    num = eval(input(\"enter a number: \"))\n",
    "    num_sq = num*num\n",
    "    print(f\"square of the number {num} is {num_sq}\")"
   ]
  },
  {
   "cell_type": "code",
   "execution_count": null,
   "id": "736ac0c9",
   "metadata": {},
   "outputs": [],
   "source": [
    "#loop has to run 3 times"
   ]
  },
  {
   "cell_type": "markdown",
   "id": "f7d98f1f",
   "metadata": {},
   "source": [
    "**Problem 5**"
   ]
  },
  {
   "cell_type": "code",
   "execution_count": 18,
   "id": "d96244e9",
   "metadata": {},
   "outputs": [
    {
     "name": "stdout",
     "output_type": "stream",
     "text": [
      "14 x 1 = 14\n",
      "14 x 2 = 28\n",
      "14 x 3 = 42\n",
      "14 x 4 = 56\n",
      "14 x 5 = 70\n",
      "14 x 6 = 84\n",
      "14 x 7 = 98\n",
      "14 x 8 = 112\n",
      "14 x 9 = 126\n",
      "14 x 10 = 140\n"
     ]
    }
   ],
   "source": [
    "for i in range(10):\n",
    "    mul = 14*(i+1)\n",
    "    print(f\"14 x {i+1} = {mul}\")"
   ]
  },
  {
   "cell_type": "markdown",
   "id": "f3666a25",
   "metadata": {},
   "source": [
    "**Problem 6**"
   ]
  },
  {
   "cell_type": "code",
   "execution_count": 24,
   "id": "f79f843f",
   "metadata": {},
   "outputs": [
    {
     "name": "stdout",
     "output_type": "stream",
     "text": [
      "75's factors : 1\n",
      "75's factors : 3\n",
      "75's factors : 5\n",
      "75's factors : 15\n",
      "75's factors : 25\n",
      "75's factors : 75\n"
     ]
    }
   ],
   "source": [
    "num = 75\n",
    "for i in range(1,num+1):\n",
    "    if num % i ==0:\n",
    "        print(f\"{num}'s factors : {i}\")\n",
    "    "
   ]
  },
  {
   "cell_type": "markdown",
   "id": "a937a897",
   "metadata": {},
   "source": [
    "**Problem 7**"
   ]
  },
  {
   "cell_type": "code",
   "execution_count": 37,
   "id": "77dfc0be",
   "metadata": {},
   "outputs": [
    {
     "name": "stdout",
     "output_type": "stream",
     "text": [
      "the sum of first 10 natural numbers: 55\n"
     ]
    }
   ],
   "source": [
    "sumn = 0\n",
    "for i in range(10+1):\n",
    "    sumn=sumn+i\n",
    "\n",
    "print(f\"the sum of first 10 natural numbers: {sumn}\")"
   ]
  },
  {
   "cell_type": "markdown",
   "id": "09dc6b32",
   "metadata": {},
   "source": [
    "**Problem 8**"
   ]
  },
  {
   "cell_type": "code",
   "execution_count": 41,
   "id": "fde53afb",
   "metadata": {},
   "outputs": [
    {
     "name": "stdout",
     "output_type": "stream",
     "text": [
      "average of first 10 numbers is 5.5\n"
     ]
    }
   ],
   "source": [
    "sumn = 0\n",
    "for i in range(10+1):\n",
    "    sumn=sumn+i\n",
    "\n",
    "avg = sumn/10\n",
    "print(f\"average of first 10 numbers is {avg}\")"
   ]
  },
  {
   "cell_type": "code",
   "execution_count": 44,
   "id": "0b1f6224",
   "metadata": {},
   "outputs": [
    {
     "name": "stdout",
     "output_type": "stream",
     "text": [
      "to find the average of first N numbers, enter N: 30\n",
      "average of first N numbers is 15.5\n"
     ]
    }
   ],
   "source": [
    "#to find the average of N numbers\n",
    "\n",
    "N = int(input(\"to find the average of first N numbers, enter N: \"))\n",
    "sumn = 0\n",
    "for i in range(N+1):\n",
    "    sumn=sumn+i\n",
    "\n",
    "avg = sumn/N\n",
    "print(f\"average of first N numbers is {avg}\")"
   ]
  },
  {
   "cell_type": "markdown",
   "id": "d65e547c",
   "metadata": {},
   "source": [
    "**Problem 9**"
   ]
  },
  {
   "cell_type": "code",
   "execution_count": 53,
   "id": "327a8aed",
   "metadata": {},
   "outputs": [
    {
     "name": "stdout",
     "output_type": "stream",
     "text": [
      "75's factors : 1 3 5 15 25 75 \n",
      "number of divisors: 6\n"
     ]
    }
   ],
   "source": [
    "num = 75\n",
    "cnt = 0\n",
    "\n",
    "print(f\"{num}'s factors : \", end='')\n",
    "for i in range(1,num+1):\n",
    "    if num % i ==0:\n",
    "        print(i, end=' ')\n",
    "        cnt = cnt+1\n",
    "print()\n",
    "print(f\"number of divisors: {cnt}\")"
   ]
  },
  {
   "cell_type": "markdown",
   "id": "3656c108",
   "metadata": {},
   "source": [
    "**Problem 10**"
   ]
  },
  {
   "cell_type": "code",
   "execution_count": 57,
   "id": "b03dec81",
   "metadata": {},
   "outputs": [
    {
     "name": "stdout",
     "output_type": "stream",
     "text": [
      "enter a number: 4\n",
      "num1 random number is 8\n",
      "fail\n",
      "##########################\n",
      "enter a number: 2\n",
      "num1 random number is 9\n",
      "fail\n",
      "##########################\n",
      "enter a number: 6\n",
      "num1 random number is 7\n",
      "fail\n",
      "##########################\n"
     ]
    }
   ],
   "source": [
    "#Case 1\n",
    "for i in range(3):\n",
    "    num1 = random.randint(1,10)\n",
    "    num2 = eval(input(\"enter a number: \"))\n",
    "    print(f\"num1 random number is {num1}\")\n",
    "    if num1==num2:\n",
    "        print(\"won\")\n",
    "    else:\n",
    "        print(\"fail\")\n",
    "    print(\"##########################\")"
   ]
  },
  {
   "cell_type": "code",
   "execution_count": null,
   "id": "a5e975c1",
   "metadata": {},
   "outputs": [],
   "source": [
    "#Case 2\n",
    "for i in range(3):\n",
    "    num1 = random.randint(1,10)\n",
    "    num2 = eval(input(\"enter a number: \"))\n",
    "    print(f\"num1 random number is {num1}\")\n",
    "    if num1==num2:\n",
    "        print(\"won\")\n",
    "        break\n",
    "    else:\n",
    "        print(\"fail\")\n",
    "    print(\"##########################\")"
   ]
  },
  {
   "cell_type": "code",
   "execution_count": 62,
   "id": "47e63bd9",
   "metadata": {},
   "outputs": [
    {
     "name": "stdout",
     "output_type": "stream",
     "text": [
      "num1 random number is 10\n",
      "enter a number: 3\n",
      "fail\n",
      "number of chances left is: 3\n",
      "##########################\n",
      "num1 random number is 2\n",
      "enter a number: 6\n",
      "fail\n",
      "number of chances left is: 2\n",
      "##########################\n",
      "num1 random number is 7\n",
      "enter a number: 9\n",
      "fail\n",
      "number of chances left is: 1\n",
      "##########################\n",
      "num1 random number is 10\n",
      "enter a number: 10\n",
      "won\n"
     ]
    }
   ],
   "source": [
    "#Case 3\n",
    "\n",
    "for i in range(4):\n",
    "    num1 = random.randint(1,10)\n",
    "    print(f\"num1 random number is {num1}\")\n",
    "    num2 = eval(input(\"enter a number: \"))\n",
    "    if num1==num2:\n",
    "        print(\"won\")\n",
    "        break\n",
    "    else:\n",
    "        print(\"fail\")\n",
    "        print(f\"number of chances left is: {3-i}\")\n",
    "        if i==3:\n",
    "            print(\"used up all chances, try again after 24 hours\")\n",
    "    print(\"##########################\")\n",
    "        "
   ]
  },
  {
   "cell_type": "markdown",
   "id": "346742d1",
   "metadata": {},
   "source": [
    "**Problem 11**"
   ]
  },
  {
   "cell_type": "code",
   "execution_count": 63,
   "id": "3d2f2de7",
   "metadata": {},
   "outputs": [
    {
     "name": "stdout",
     "output_type": "stream",
     "text": [
      "enter a number: 4\n",
      "4 is an even number\n",
      "enter a number: 6\n",
      "6 is an even number\n",
      "enter a number: 3\n",
      "3 is an odd number\n",
      "enter a number: 7\n",
      "7 is an odd number\n",
      "enter a number: 5\n",
      "5 is an odd number\n",
      "number of even numbers:  2\n",
      "number of odd numbers:  3\n"
     ]
    }
   ],
   "source": [
    "ce,co=0,0\n",
    "\n",
    "for i in range(5):\n",
    "    num = eval(input(\"enter a number: \"))\n",
    "    if num%2==0:\n",
    "        ce=ce+1\n",
    "        print(f\"{num} is an even number\")\n",
    "    else:\n",
    "        co=co+1\n",
    "        print(f\"{num} is an odd number\")\n",
    "        \n",
    "print(\"number of even numbers: \",ce)\n",
    "print(\"number of odd numbers: \",co)"
   ]
  },
  {
   "cell_type": "markdown",
   "id": "5c47a4aa",
   "metadata": {},
   "source": [
    "**Problem 12**"
   ]
  },
  {
   "cell_type": "code",
   "execution_count": 64,
   "id": "82906e89",
   "metadata": {},
   "outputs": [
    {
     "name": "stdout",
     "output_type": "stream",
     "text": [
      "75 odd\n",
      "99 odd\n",
      "59 odd\n",
      "80 even\n",
      "85 odd\n",
      "number of even numbers:  1\n",
      "number of odd numbers:  4\n",
      "sum of even numbers is  80\n",
      "sum of odd numbers is  318\n"
     ]
    }
   ],
   "source": [
    "import random\n",
    "ce,co=0,0\n",
    "sume, sumo = 0,0\n",
    "\n",
    "for i in range(5):\n",
    "    num = random.randint(1,100)\n",
    "    if num%2==0: \n",
    "        print(f\"{num} even\")\n",
    "        ce = ce+1\n",
    "        sume=sume+num\n",
    "    else: \n",
    "        print(f\"{num} odd\")\n",
    "        co = co+1\n",
    "        sumo=sumo+num\n",
    "\n",
    "print(\"number of even numbers: \",ce)\n",
    "print(\"number of odd numbers: \",co)\n",
    "print(f\"sum of even numbers is \", sume)\n",
    "print(f\"sum of odd numbers is \", sumo)"
   ]
  },
  {
   "cell_type": "code",
   "execution_count": null,
   "id": "de104689",
   "metadata": {},
   "outputs": [],
   "source": []
  }
 ],
 "metadata": {
  "kernelspec": {
   "display_name": "Python 3 (ipykernel)",
   "language": "python",
   "name": "python3"
  },
  "language_info": {
   "codemirror_mode": {
    "name": "ipython",
    "version": 3
   },
   "file_extension": ".py",
   "mimetype": "text/x-python",
   "name": "python",
   "nbconvert_exporter": "python",
   "pygments_lexer": "ipython3",
   "version": "3.11.7"
  }
 },
 "nbformat": 4,
 "nbformat_minor": 5
}
