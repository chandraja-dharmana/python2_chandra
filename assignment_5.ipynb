{
 "cells": [
  {
   "cell_type": "code",
   "execution_count": 36,
   "id": "f85b2760",
   "metadata": {},
   "outputs": [],
   "source": [
    "import random\n",
    "import math"
   ]
  },
  {
   "cell_type": "code",
   "execution_count": 3,
   "id": "667804d2",
   "metadata": {},
   "outputs": [
    {
     "name": "stdout",
     "output_type": "stream",
     "text": [
      "enter three numbers to compute their average\n",
      "enter the number1 : 10\n",
      "enter the number2 : 20\n",
      "enter the number3 : 30\n",
      "average of 3 numbers 10, 20, and 30 is 20.0\n"
     ]
    }
   ],
   "source": [
    "# a) without arguments\n",
    "def average():\n",
    "    \n",
    "    print(\"enter three numbers to compute their average\")\n",
    "    num1 = eval(input(\"enter the number1 : \"))\n",
    "    num2 = eval(input(\"enter the number2 : \"))\n",
    "    num3 = eval(input(\"enter the number3 : \"))\n",
    "    total = num1+num2+num3\n",
    "    avg = total/3 # or(num1+num2+num3)/3 \n",
    "    avg1 = round(avg,2)\n",
    "    print(f\"average of 3 numbers {num1}, {num2}, and {num3} is {avg1}\")\n",
    "    \n",
    "average()"
   ]
  },
  {
   "cell_type": "code",
   "execution_count": 4,
   "id": "bf4c4321",
   "metadata": {},
   "outputs": [
    {
     "name": "stdout",
     "output_type": "stream",
     "text": [
      "enter three numbers to compute their average\n",
      "average of 3 numbers 20, 30, and 40 is 30.0\n"
     ]
    }
   ],
   "source": [
    "# b) with arguments\n",
    "def average1(num1, num2, num3):\n",
    "    \n",
    "    print(\"enter three numbers to compute their average\")\n",
    "    total = num1+num2+num3\n",
    "    avg = total/3 # or(num1+num2+num3)/3 \n",
    "    avg1 = round(avg,2)\n",
    "    print(f\"average of 3 numbers {num1}, {num2}, and {num3} is {avg1}\")\n",
    "\n",
    "average1(20,30,40)"
   ]
  },
  {
   "cell_type": "code",
   "execution_count": 7,
   "id": "133bd36e",
   "metadata": {},
   "outputs": [
    {
     "name": "stdout",
     "output_type": "stream",
     "text": [
      "enter the radius: 10\n",
      "enter the pi value: 3.14\n",
      "the area of circle with radius 10 is 314.0\n"
     ]
    }
   ],
   "source": [
    "# a) without arguments\n",
    "def area_circle():\n",
    "    rad=eval(input(\"enter the radius: \"))\n",
    "    pi_val=eval(input(\"enter the pi value: \"))\n",
    "    area=pi_val*rad*rad\n",
    "    print(f\"the area of circle with radius {rad} is {area}\")\n",
    "    \n",
    "area_circle()"
   ]
  },
  {
   "cell_type": "code",
   "execution_count": 8,
   "id": "797aae2c",
   "metadata": {},
   "outputs": [
    {
     "name": "stdout",
     "output_type": "stream",
     "text": [
      "the area of circle with radius 10 is 314.0\n"
     ]
    }
   ],
   "source": [
    "# b) with arguments\n",
    "def area_circle1(rad, pi_val):\n",
    "    area=pi_val*rad*rad\n",
    "    print(f\"the area of circle with radius {rad} is {area}\")\n",
    "    \n",
    "area_circle1(10,3.14)"
   ]
  },
  {
   "cell_type": "code",
   "execution_count": 9,
   "id": "828e7700",
   "metadata": {},
   "outputs": [
    {
     "name": "stdout",
     "output_type": "stream",
     "text": [
      "enter the cost of the meal : 1000\n",
      "percentage of the tip you want to leave : 10\n",
      "tip amount is Rs 100.0\n",
      "total bill amount with a tip percentage of 10% is Rs 1100.0\n"
     ]
    }
   ],
   "source": [
    "def bill_tip():\n",
    "    bill_amount = eval(input(\"enter the cost of the meal : \"))\n",
    "    tip_percentage = eval(input(\"percentage of the tip you want to leave : \"))\n",
    "    tip = (tip_percentage/100)*bill_amount\n",
    "    bill_total = bill_amount + tip\n",
    "\n",
    "    print(f\"tip amount is Rs {tip}\")\n",
    "    print(f\"total bill amount with a tip percentage of {tip_percentage}% is Rs {bill_total}\")\n",
    "    \n",
    "bill_tip()"
   ]
  },
  {
   "cell_type": "code",
   "execution_count": 12,
   "id": "1eadec12",
   "metadata": {},
   "outputs": [
    {
     "name": "stdout",
     "output_type": "stream",
     "text": [
      "bill amount is 1000\n",
      "tip percentage is 10\n",
      "tip amount is Rs 100.0\n",
      "total bill amount with a tip percentage of 10% is Rs 1100.0\n"
     ]
    }
   ],
   "source": [
    "def bill_tip1(bill_amount,tip_percentage ):\n",
    "    tip = (tip_percentage/100)*bill_amount\n",
    "    bill_total = bill_amount + tip\n",
    "\n",
    "    print(f\"bill amount is {bill_amount}\")\n",
    "    print(f\"tip percentage is {tip_percentage}\")\n",
    "    print(f\"tip amount is Rs {tip}\")\n",
    "    print(f\"total bill amount with a tip percentage of {tip_percentage}% is Rs {bill_total}\")\n",
    "    \n",
    "bill_tip1(1000,10)"
   ]
  },
  {
   "cell_type": "markdown",
   "id": "86938ee8",
   "metadata": {},
   "source": [
    "**Problem 4**"
   ]
  },
  {
   "cell_type": "code",
   "execution_count": 14,
   "id": "c042432d",
   "metadata": {},
   "outputs": [
    {
     "name": "stdout",
     "output_type": "stream",
     "text": [
      "enter the height and breadth of the triangle to compute its area\n",
      "enter the height:30\n",
      "enter the breadth:60\n",
      "the area of the triangle with height 30 and breadth 60 is 900.0\n"
     ]
    }
   ],
   "source": [
    "def area_triangle():\n",
    "    print(\"enter the height and breadth of the triangle to compute its area\")\n",
    "    h=eval(input(\"enter the height:\"))\n",
    "    b=eval(input(\"enter the breadth:\"))\n",
    "    a=(1/2)*b*h\n",
    "    print(f\"the area of the triangle with height {h} and breadth {b} is {a}\" ) #fstring\n",
    "    \n",
    "area_triangle()"
   ]
  },
  {
   "cell_type": "code",
   "execution_count": 15,
   "id": "7219e551",
   "metadata": {},
   "outputs": [
    {
     "name": "stdout",
     "output_type": "stream",
     "text": [
      "the area of the triangle with height 40 and breadth 70 is 1400.0\n"
     ]
    }
   ],
   "source": [
    "def area_triangle1(h,b):\n",
    "    a=(1/2)*b*h\n",
    "    print(f\"the area of the triangle with height {h} and breadth {b} is {a}\" ) #fstring\n",
    "    \n",
    "area_triangle1(40,70)"
   ]
  },
  {
   "cell_type": "code",
   "execution_count": null,
   "id": "aeb34eb3",
   "metadata": {},
   "outputs": [],
   "source": [
    "**Problem 5**"
   ]
  },
  {
   "cell_type": "code",
   "execution_count": 16,
   "id": "e465bad1",
   "metadata": {},
   "outputs": [
    {
     "name": "stdout",
     "output_type": "stream",
     "text": [
      "enter the length and breadth of the rectangle to compute its area\n",
      "enter the length:40\n",
      "enter the breadth:70\n",
      "the area of the rectangle with length 40 and breadth 70 is 2800\n"
     ]
    }
   ],
   "source": [
    "def area_rectangle():\n",
    "    print(\"enter the length and breadth of the rectangle to compute its area\")\n",
    "    l=eval(input(\"enter the length:\"))\n",
    "    b=eval(input(\"enter the breadth:\"))\n",
    "    ar=l*b\n",
    "    print(f\"the area of the rectangle with length {l} and breadth {b} is {ar}\" ) #fstring\n",
    "    \n",
    "area_rectangle()"
   ]
  },
  {
   "cell_type": "code",
   "execution_count": 17,
   "id": "037ec678",
   "metadata": {},
   "outputs": [
    {
     "name": "stdout",
     "output_type": "stream",
     "text": [
      "the area of the rectangle with length 30 and breadth 60 is 1800\n"
     ]
    }
   ],
   "source": [
    "def area_rectangle1(l,b):\n",
    "    ar=l*b\n",
    "    print(f\"the area of the rectangle with length {l} and breadth {b} is {ar}\" ) #fstring\n",
    "    \n",
    "area_rectangle1(30,60)"
   ]
  },
  {
   "cell_type": "markdown",
   "id": "7b462c5d",
   "metadata": {},
   "source": [
    "**Problem 6**"
   ]
  },
  {
   "cell_type": "code",
   "execution_count": 20,
   "id": "fcd74112",
   "metadata": {},
   "outputs": [
    {
     "name": "stdout",
     "output_type": "stream",
     "text": [
      "enter a number: 9\n",
      "9 is an odd number\n"
     ]
    }
   ],
   "source": [
    "def even_or_odd():\n",
    "    num = eval(input(\"enter a number: \"))\n",
    "\n",
    "    if (num%2)==0:\n",
    "        print(f\"{num} is an even number\")\n",
    "    else:\n",
    "        print(f\"{num} is an odd number\")\n",
    "        \n",
    "even_or_odd()"
   ]
  },
  {
   "cell_type": "code",
   "execution_count": 22,
   "id": "31028dc7",
   "metadata": {},
   "outputs": [
    {
     "name": "stdout",
     "output_type": "stream",
     "text": [
      "7 is an odd number\n"
     ]
    }
   ],
   "source": [
    "def even_or_odd(num):\n",
    "    if (num%2)==0:\n",
    "        print(f\"{num} is an even number\")\n",
    "    else:\n",
    "        print(f\"{num} is an odd number\")\n",
    "        \n",
    "even_or_odd(7)"
   ]
  },
  {
   "cell_type": "code",
   "execution_count": null,
   "id": "8dc3d18a",
   "metadata": {},
   "outputs": [],
   "source": [
    "**Problem 7**"
   ]
  },
  {
   "cell_type": "code",
   "execution_count": 29,
   "id": "608d9641",
   "metadata": {},
   "outputs": [
    {
     "name": "stdout",
     "output_type": "stream",
     "text": [
      "enter the distance in km: 40\n",
      "margin distance, cutoff is 25 km\n",
      "price per km, enter the charge: 10\n",
      "ride's total cost is 400\n"
     ]
    }
   ],
   "source": [
    "def ride_cost():\n",
    "    dist=eval(input(\"enter the distance in km: \"))\n",
    "    print(f\"margin distance, cutoff is 25 km\") # 25 km is hard-coded\n",
    "    if dist>25:\n",
    "        price_per_km = eval(input(\"price per km, enter the charge: \"))\n",
    "        cost = dist*price_per_km\n",
    "        print(f\"ride's total cost is {cost}\")\n",
    "    else:\n",
    "        print(\"distance < 25 km, so free ride\")\n",
    "        \n",
    "ride_cost()"
   ]
  },
  {
   "cell_type": "code",
   "execution_count": 45,
   "id": "e998fc58",
   "metadata": {},
   "outputs": [
    {
     "name": "stdout",
     "output_type": "stream",
     "text": [
      "distance is 55\n",
      "margin distance, cutoff is 25 km\n",
      "price per km is: 10\n",
      "ride's total cost is 550\n"
     ]
    }
   ],
   "source": [
    "# Implement the above problem by taking a random input  between  1, 100\n",
    "def ride_cost1():\n",
    "    dist = random.randint(1,100)\n",
    "    print(f\"distance is {dist}\")\n",
    "    print(f\"margin distance, cutoff is 25 km\") \n",
    "    if dist>25:\n",
    "        price_per_km = random.randint(1,20)\n",
    "        print(f\"price per km is: {price_per_km}\")\n",
    "        cost = dist*price_per_km\n",
    "        print(f\"ride's total cost is {cost}\")\n",
    "    else:\n",
    "        print(\"distance < 25 km, so free ride\")\n",
    "        \n",
    "ride_cost1()"
   ]
  },
  {
   "cell_type": "code",
   "execution_count": 46,
   "id": "b6aeecfa",
   "metadata": {},
   "outputs": [
    {
     "name": "stdout",
     "output_type": "stream",
     "text": [
      "distance is: 60\n",
      "margin distance is 25 km\n",
      "good news charge is applicable for only remaining of 25 km\n",
      "remaining distance is: 35\n",
      "ride cost is 175\n"
     ]
    }
   ],
   "source": [
    "def ride_cost2(dist, price_per_km):\n",
    "    print(f\"distance is: {dist}\")\n",
    "    print(f\"margin distance is 25 km\")\n",
    "    cutoff = 25\n",
    "    if dist>cutoff:\n",
    "        print(\"good news charge is applicable for only remaining of 25 km\" )\n",
    "        dist_rem = dist - 25\n",
    "        print(f\"remaining distance is: {dist_rem}\")\n",
    "        cost = dist_rem*price_per_km\n",
    "        print(f\"ride cost is {cost}\")\n",
    "    else:\n",
    "        print(\"distance < 25 km, so free ride\")\n",
    "        \n",
    "ride_cost2(60, 5)"
   ]
  },
  {
   "cell_type": "code",
   "execution_count": 69,
   "id": "ea38e1f0",
   "metadata": {},
   "outputs": [
    {
     "name": "stdout",
     "output_type": "stream",
     "text": [
      "enter the distance in km: 83\n",
      "good news charge is applicable for only remaining of 25 km\n",
      "price per km, enter the charge: 5\n",
      "ride cost is 290\n"
     ]
    }
   ],
   "source": [
    "def ride_cost3():\n",
    "    dist=eval(input(\"enter the distance in km: \"))\n",
    "    cutoff = 25  # margin distance is 25 km\n",
    "    if dist>cutoff:\n",
    "        print(\"good news charge is applicable for only remaining of 25 km\" )\n",
    "        price_per_km = eval(input(\"price per km, enter the charge: \"))\n",
    "        dist_rem = dist - cutoff\n",
    "        cost = dist_rem*price_per_km\n",
    "        print(f\"ride cost is {cost}\")\n",
    "    else:\n",
    "        print(\"distance < 25 km, so free ride\")\n",
    "\n",
    "ride_cost3()"
   ]
  },
  {
   "cell_type": "code",
   "execution_count": 64,
   "id": "55b761a7",
   "metadata": {},
   "outputs": [
    {
     "name": "stdout",
     "output_type": "stream",
     "text": [
      "enter the course: data SCIEnce\n",
      "enter the institute: nareshIT\n",
      "you are bad\n"
     ]
    }
   ],
   "source": [
    "def course_institute():\n",
    "    course = input(\"enter the course: \")\n",
    "    ins = input(\"enter the institute: \")\n",
    "    if course=='data science' and ins=='Naresh IT':\n",
    "        print(\"you are good\")\n",
    "    else:\n",
    "        print(\"you are bad\")\n",
    "\n",
    "course_institute()"
   ]
  },
  {
   "cell_type": "code",
   "execution_count": 68,
   "id": "84b7394d",
   "metadata": {},
   "outputs": [
    {
     "name": "stdout",
     "output_type": "stream",
     "text": [
      "the course: data science\n",
      "the institute: Naresh IT\n",
      "you are good\n"
     ]
    }
   ],
   "source": [
    "def course_institute1(course, ins):\n",
    "    print(f\"the course: {course}\")\n",
    "    print(f\"the institute: {ins}\")\n",
    "    if course=='data science' and ins=='Naresh IT':\n",
    "        print(\"you are good\")\n",
    "    else:\n",
    "        print(\"you are bad\")\n",
    "\n",
    "course_institute1('data science','Naresh IT')"
   ]
  },
  {
   "cell_type": "code",
   "execution_count": 49,
   "id": "a11a7307",
   "metadata": {},
   "outputs": [
    {
     "name": "stdout",
     "output_type": "stream",
     "text": [
      "enter a number, number2: 5\n",
      "random number1 : 3\n",
      "you lost\n"
     ]
    }
   ],
   "source": [
    "import random\n",
    "def num_pblm():\n",
    "    number1 = random.randint(1,10)\n",
    "    number2 = eval(input(\"enter a number, number2: \"))\n",
    "    print(f\"random number1 : {number1}\")\n",
    "    if number1==number2:\n",
    "        print(\"you have won\")\n",
    "    else:\n",
    "        print(\"you lost\")\n",
    "        \n",
    "num_pblm()"
   ]
  },
  {
   "cell_type": "code",
   "execution_count": 48,
   "id": "6bb22987",
   "metadata": {},
   "outputs": [
    {
     "name": "stdout",
     "output_type": "stream",
     "text": [
      "you have won\n"
     ]
    }
   ],
   "source": [
    "def num_pblm1(number1, number2):\n",
    "    if number1==number2:\n",
    "        print(\"you have won\")\n",
    "    else:\n",
    "        print(\"you lost\")\n",
    "        \n",
    "num_pblm1(40,40)"
   ]
  },
  {
   "cell_type": "code",
   "execution_count": 51,
   "id": "e8a3c355",
   "metadata": {},
   "outputs": [
    {
     "name": "stdout",
     "output_type": "stream",
     "text": [
      "enter a number: 2\n",
      "two\n"
     ]
    }
   ],
   "source": [
    "def num_eg():\n",
    "    num = eval(input(\"enter a number: \"))\n",
    "    if num==1:\n",
    "        print(\"one\")\n",
    "    elif num==2:\n",
    "        print(\"two\")\n",
    "    elif num==3:\n",
    "        print(\"three\")\n",
    "    else:\n",
    "        print(\"enter a valid number\")\n",
    "        \n",
    "num_eg()"
   ]
  },
  {
   "cell_type": "code",
   "execution_count": 52,
   "id": "18b4fe52",
   "metadata": {},
   "outputs": [
    {
     "name": "stdout",
     "output_type": "stream",
     "text": [
      "three\n"
     ]
    }
   ],
   "source": [
    "def num_eg1(num):\n",
    "    if num==1:\n",
    "        print(\"one\")\n",
    "    elif num==2:\n",
    "        print(\"two\")\n",
    "    elif num==3:\n",
    "        print(\"three\")\n",
    "    else:\n",
    "        print(\"enter a valid number\")\n",
    "        \n",
    "num_eg1(3)"
   ]
  },
  {
   "cell_type": "code",
   "execution_count": 54,
   "id": "b40429de",
   "metadata": {},
   "outputs": [
    {
     "name": "stdout",
     "output_type": "stream",
     "text": [
      "enter a number: 59\n",
      "positive\n"
     ]
    }
   ],
   "source": [
    "def pos_neg_no():\n",
    "    num = eval(input(\"enter a number: \"))\n",
    "    if num>0:\n",
    "        print(\"positive\")\n",
    "    elif num<0:\n",
    "        print(\"negative\")\n",
    "    else:\n",
    "        print(\"zero\")\n",
    "    \n",
    "pos_neg_no()"
   ]
  },
  {
   "cell_type": "code",
   "execution_count": 56,
   "id": "2c0e0f68",
   "metadata": {},
   "outputs": [
    {
     "name": "stdout",
     "output_type": "stream",
     "text": [
      "negative\n"
     ]
    }
   ],
   "source": [
    "def pos_neg_no1(num):\n",
    "    if num>0:\n",
    "        print(\"positive\")\n",
    "    elif num<0:\n",
    "        print(\"negative\")\n",
    "    else:\n",
    "        print(\"zero\")\n",
    "        \n",
    "pos_neg_no1(-26)"
   ]
  },
  {
   "cell_type": "code",
   "execution_count": 57,
   "id": "0a055e7f",
   "metadata": {},
   "outputs": [
    {
     "name": "stdout",
     "output_type": "stream",
     "text": [
      "enter the percentage of marks between 0 and 100 : 64\n",
      " grade:C\n"
     ]
    }
   ],
   "source": [
    "def percentage_grades():\n",
    "    percentage = eval(input(\"enter the percentage of marks between 0 and 100 : \"))\n",
    "    if percentage > 90: print(\" grade:A\")\n",
    "    elif 75 < percentage: print(\" grade:B\")\n",
    "    elif 50 < percentage: print(\" grade:C\")\n",
    "    elif 35 < percentage: print(\" grade:D\")\n",
    "    else: print(\" Fail\")\n",
    "        \n",
    "percentage_grades()"
   ]
  },
  {
   "cell_type": "code",
   "execution_count": 58,
   "id": "df6ecb34",
   "metadata": {},
   "outputs": [
    {
     "name": "stdout",
     "output_type": "stream",
     "text": [
      " grade:A\n"
     ]
    }
   ],
   "source": [
    "def percentage_grades1(percentage):\n",
    "    if percentage > 90: print(\" grade:A\")\n",
    "    elif 75 < percentage: print(\" grade:B\")\n",
    "    elif 50 < percentage: print(\" grade:C\")\n",
    "    elif 35 < percentage: print(\" grade:D\")\n",
    "    else: print(\" Fail\")\n",
    "        \n",
    "percentage_grades1(92)"
   ]
  },
  {
   "cell_type": "code",
   "execution_count": 59,
   "id": "b3c3ea75",
   "metadata": {},
   "outputs": [
    {
     "name": "stdout",
     "output_type": "stream",
     "text": [
      "enter the age : 82\n",
      " old age\n"
     ]
    }
   ],
   "source": [
    "def age_classify():\n",
    "    age = eval(input(\"enter the age : \"))\n",
    "    if age > 100: print(\" you are lucky\")\n",
    "    elif 75 < age: print(\" old age\")\n",
    "    elif 50 < age: print(\" senior citizens\")\n",
    "    elif 30 < age: print(\" middle age\")\n",
    "    elif 15 < age: print(\" young age\")\n",
    "    else: print(\"kid\")\n",
    "\n",
    "age_classify()"
   ]
  },
  {
   "cell_type": "code",
   "execution_count": 61,
   "id": "73074c77",
   "metadata": {},
   "outputs": [
    {
     "name": "stdout",
     "output_type": "stream",
     "text": [
      "enter the age : 73\n",
      " senior citizens\n"
     ]
    }
   ],
   "source": [
    "def age_classify(age):\n",
    "if age > 100: print(\" you are lucky\")\n",
    "    elif 75 < age: print(\" old age\")\n",
    "    elif 50 < age: print(\" senior citizens\")\n",
    "    elif 30 < age: print(\" middle age\")\n",
    "    elif 15 < age: print(\" young age\")\n",
    "    else: print(\"kid\")\n",
    "\n",
    "age_classify(55)"
   ]
  },
  {
   "cell_type": "code",
   "execution_count": null,
   "id": "70c62a42",
   "metadata": {},
   "outputs": [],
   "source": []
  }
 ],
 "metadata": {
  "kernelspec": {
   "display_name": "Python 3 (ipykernel)",
   "language": "python",
   "name": "python3"
  },
  "language_info": {
   "codemirror_mode": {
    "name": "ipython",
    "version": 3
   },
   "file_extension": ".py",
   "mimetype": "text/x-python",
   "name": "python",
   "nbconvert_exporter": "python",
   "pygments_lexer": "ipython3",
   "version": "3.11.7"
  }
 },
 "nbformat": 4,
 "nbformat_minor": 5
}
